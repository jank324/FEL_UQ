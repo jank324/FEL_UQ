{
 "cells": [
  {
   "cell_type": "markdown",
   "metadata": {},
   "source": [
    "# FEL Data and Model"
   ]
  },
  {
   "cell_type": "code",
   "execution_count": 1,
   "metadata": {},
   "outputs": [
    {
     "name": "stderr",
     "output_type": "stream",
     "text": [
      "Using TensorFlow backend.\n"
     ]
    }
   ],
   "source": [
    "import numpy as np\n",
    "import keras\n",
    "import matplotlib.pyplot as plt"
   ]
  },
  {
   "cell_type": "code",
   "execution_count": 2,
   "metadata": {},
   "outputs": [],
   "source": [
    "def get_scale(data,lower=-1,upper=1):\n",
    "    offset =np.nanmin(data,axis=0)\n",
    "    scale=np.nanmax(data,axis=0)-np.nanmin(data,axis=0)\n",
    "    return offset, scale\n",
    "def scale_data(data,offset,scale,lower=-1,upper=1):\n",
    "    data_scaled=lower + ((data-offset)*(upper-lower)/scale)\n",
    "    return data_scaled\n",
    "def unscale_data(data,offset,scale,lower=-1,upper=1):\n",
    "    data_unscaled=(((data-lower)*scale)/(upper-lower)) + offset\n",
    "    return data_unscaled"
   ]
  },
  {
   "cell_type": "code",
   "execution_count": 18,
   "metadata": {},
   "outputs": [],
   "source": [
    "# input names for PVs; output is gas detector\n",
    "x_names = np.load('control_names.npy',allow_pickle=True)"
   ]
  },
  {
   "cell_type": "code",
   "execution_count": 19,
   "metadata": {},
   "outputs": [
    {
     "data": {
      "text/plain": [
       "array(['ACCL_IN20_400_L0B_ADES', 'ACCL_LI21_1_L1S_ADES',\n",
       "       'ACCL_LI21_1_L1S_PDES', 'ACCL_LI22_1_ADES', 'ACCL_LI22_1_PDES',\n",
       "       'ACCL_LI25_1_ADES', 'ACCL_LI25_1_PDES', 'BEND_LI21_231_EDES',\n",
       "       'BEND_DMP1_400_BDES', 'BLEN_LI21_265_AIMAX1H',\n",
       "       'BLEN_LI24_886_BIMAX1H', 'BPMS_DMP1_693_TMIT1H',\n",
       "       'BPMS_LI21_201_TMIT1H', 'BPMS_LI21_278_TMIT1H',\n",
       "       'CAMR_IN20_186_SUM', 'CAMR_IN20_186_XRMS', 'CAMR_IN20_186_YRMS',\n",
       "       'CATH_IN20_111_QE', 'COLL_LI21_235_LVPOS', 'COLL_LI21_236_LVPOS',\n",
       "       'DCHP_LTU1_545_DS_GW_RBK', 'DCHP_LTU1_545_US_GW_RBK',\n",
       "       'DCHP_LTU1_555_DS_GW_RBK', 'DCHP_LTU1_555_US_GW_RBK',\n",
       "       'FBCK_FB04_LG01_CHIRPDES', 'FBCK_FB04_LG01_DL2VERNIER',\n",
       "       'FBCK_FB04_LG01_S3DES', 'FOIL_LI24_804_LVPOS',\n",
       "       'FOIL_LI24_804_MOTR.VAL', 'FOIL_LI24_807_LVPOS',\n",
       "       'FOIL_LI24_807_MOTR.VAL', 'LASR_IN20_196_PWR1H',\n",
       "       'LASR_LR20_1_UV_LASER_MODE', 'LGPS_IN20_1_BACT',\n",
       "       'LGPS_IN20_2_BACT', 'PMTR_LR20_121_PWR', 'PMTR_LR20_135_PWR',\n",
       "       'QUAD_IN20_121_BCTRL', 'QUAD_IN20_122_BCTRL',\n",
       "       'QUAD_IN20_361_BCTRL', 'QUAD_IN20_371_BCTRL',\n",
       "       'QUAD_IN20_425_BCTRL', 'QUAD_IN20_441_BCTRL',\n",
       "       'QUAD_IN20_511_BCTRL', 'QUAD_IN20_525_BCTRL',\n",
       "       'QUAD_LI21_201_BCTRL', 'QUAD_LI21_211_BCTRL',\n",
       "       'QUAD_LI21_221_BCTRL', 'QUAD_LI21_251_BCTRL',\n",
       "       'QUAD_LI21_271_BCTRL', 'QUAD_LI21_278_BCTRL',\n",
       "       'QUAD_LI24_740_BCTRL', 'QUAD_LI24_860_BCTRL',\n",
       "       'QUAD_LI26_201_BCTRL', 'QUAD_LI26_301_BCTRL',\n",
       "       'QUAD_LI26_401_BCTRL', 'QUAD_LI26_501_BCTRL',\n",
       "       'QUAD_LI26_601_BCTRL', 'QUAD_LI26_701_BCTRL',\n",
       "       'QUAD_LI26_801_BCTRL', 'QUAD_LI26_901_BCTRL',\n",
       "       'QUAD_LTU1_440_BCTRL', 'QUAD_LTU1_460_BCTRL',\n",
       "       'QUAD_LTU1_620_BCTRL', 'QUAD_LTU1_640_BCTRL',\n",
       "       'QUAD_LTU1_660_BCTRL', 'QUAD_LTU1_680_BCTRL', 'REFS_DMP1_400_EDES',\n",
       "       'REFS_LI24_790_EDES', 'SOLN_IN20_111_BACT', 'SOLN_IN20_121_BACT',\n",
       "       'SOLN_IN20_311_BACT', 'TORO_IN20_215_TMIT1H',\n",
       "       'TORO_LI21_205_TMIT1H', 'TORO_LI21_277_TMIT1H',\n",
       "       'USEG_UND1_1050_KACT', 'USEG_UND1_1150_KACT',\n",
       "       'USEG_UND1_1250_KACT', 'USEG_UND1_1350_KACT',\n",
       "       'USEG_UND1_1450_KACT', 'USEG_UND1_150_KACT', 'USEG_UND1_1550_KACT',\n",
       "       'USEG_UND1_1650_KACT', 'USEG_UND1_1750_KACT',\n",
       "       'USEG_UND1_1850_KACT', 'USEG_UND1_1950_KACT',\n",
       "       'USEG_UND1_2050_KACT', 'USEG_UND1_2150_KACT',\n",
       "       'USEG_UND1_2250_KACT', 'USEG_UND1_2350_KACT',\n",
       "       'USEG_UND1_2450_KACT', 'USEG_UND1_250_KACT', 'USEG_UND1_2550_KACT',\n",
       "       'USEG_UND1_2650_KACT', 'USEG_UND1_2750_KACT',\n",
       "       'USEG_UND1_2850_KACT', 'USEG_UND1_2950_KACT',\n",
       "       'USEG_UND1_3050_KACT', 'USEG_UND1_3150_KACT',\n",
       "       'USEG_UND1_3250_KACT', 'USEG_UND1_3350_KACT', 'USEG_UND1_350_KACT',\n",
       "       'USEG_UND1_450_KACT', 'USEG_UND1_550_KACT', 'USEG_UND1_650_KACT',\n",
       "       'USEG_UND1_750_KACT', 'USEG_UND1_850_KACT', 'USEG_UND1_950_KACT',\n",
       "       'WIGG_LTU1_849_GapSet'], dtype=object)"
      ]
     },
     "execution_count": 19,
     "metadata": {},
     "output_type": "execute_result"
    }
   ],
   "source": [
    "x_names"
   ]
  },
  {
   "cell_type": "code",
   "execution_count": 20,
   "metadata": {},
   "outputs": [],
   "source": [
    "model = keras.models.load_model('gdet_model.h5')"
   ]
  },
  {
   "cell_type": "code",
   "execution_count": 21,
   "metadata": {},
   "outputs": [
    {
     "name": "stdout",
     "output_type": "stream",
     "text": [
      "_________________________________________________________________\n",
      "Layer (type)                 Output Shape              Param #   \n",
      "=================================================================\n",
      "input_3 (InputLayer)         (None, 109)               0         \n",
      "_________________________________________________________________\n",
      "dense_11 (Dense)             (None, 50)                5500      \n",
      "_________________________________________________________________\n",
      "dense_12 (Dense)             (None, 20)                1020      \n",
      "_________________________________________________________________\n",
      "dense_13 (Dense)             (None, 15)                315       \n",
      "_________________________________________________________________\n",
      "dense_14 (Dense)             (None, 10)                160       \n",
      "_________________________________________________________________\n",
      "dense_15 (Dense)             (None, 1)                 11        \n",
      "=================================================================\n",
      "Total params: 7,006\n",
      "Trainable params: 7,006\n",
      "Non-trainable params: 0\n",
      "_________________________________________________________________\n"
     ]
    }
   ],
   "source": [
    "model.summary()"
   ]
  },
  {
   "cell_type": "code",
   "execution_count": 22,
   "metadata": {},
   "outputs": [],
   "source": [
    "# full scale data\n",
    "X_ = np.load('X_fel3.npy')  \n",
    "Y_ = np.load('Y_fel3.npy')"
   ]
  },
  {
   "cell_type": "code",
   "execution_count": null,
   "metadata": {},
   "outputs": [],
   "source": []
  },
  {
   "cell_type": "code",
   "execution_count": 24,
   "metadata": {},
   "outputs": [],
   "source": [
    "offset_x = np.load('offset_x.npy')\n",
    "offset_y = np.load('offset_y.npy')\n",
    "scale_x = np.load('scale_x.npy')\n",
    "scale_y = np.load('scale_y.npy')"
   ]
  },
  {
   "cell_type": "code",
   "execution_count": 23,
   "metadata": {},
   "outputs": [],
   "source": [
    "x_ = scale_data(X_,offset_x,scale_x)\n",
    "y_ = scale_data(Y_,offset_y,scale_y)"
   ]
  },
  {
   "cell_type": "code",
   "execution_count": 25,
   "metadata": {},
   "outputs": [
    {
     "data": {
      "image/png": "[encoded data removed]",
      "text/plain": [
       "<Figure size 432x288 with 1 Axes>"
      ]
     },
     "metadata": {
      "needs_background": "light"
     },
     "output_type": "display_data"
    }
   ],
   "source": [
    "pred = model.predict(x_)\n",
    "idx=np.argsort(y_[:,0])\n",
    "plt.plot(pred[idx], 'b.')\n",
    "plt.plot(y_[idx],'r.')\n",
    "plt.ylabel('GDET [a.u. -1 to 1]')\n",
    "plt.xlabel('Sample Number')\n",
    "plt.legend(['NN Predictions','Measurements'])\n",
    "plt.show()"
   ]
  },
  {
   "cell_type": "code",
   "execution_count": null,
   "metadata": {},
   "outputs": [],
   "source": []
  }
 ],
 "metadata": {
  "kernelspec": {
   "display_name": "Python 3",
   "language": "python",
   "name": "python3"
  },
  "language_info": {
   "codemirror_mode": {
    "name": "ipython",
    "version": 3
   },
   "file_extension": ".py",
   "mimetype": "text/x-python",
   "name": "python",
   "nbconvert_exporter": "python",
   "pygments_lexer": "ipython3",
   "version": "3.7.1"
  }
 },
 "nbformat": 4,
 "nbformat_minor": 4
}
